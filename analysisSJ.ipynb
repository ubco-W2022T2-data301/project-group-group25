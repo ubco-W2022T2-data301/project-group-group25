{
 "cells": [
  {
   "cell_type": "code",
   "execution_count": null,
   "id": "eb9a2285-900a-46eb-99e3-924facf86529",
   "metadata": {},
   "outputs": [],
   "source": [
    "#My research question:\n",
    "\n",
    "#Which lifestyle choices are responsible for high insurance costs?\n",
    "\n",
    "\n",
    "\n",
    "#Context:\n",
    "\n",
    "#We can answer this question using specific forms of aggregated data to extract which characteristics yielded the highest insurance costs.\n",
    "\n",
    "\n",
    "\n",
    "#Rough analysis plan:\n",
    "\n",
    "\n",
    "\n",
    "#Data Cleaning: Remove unwanted, irrelevant, or repetitive data and fill in any missing information.\n",
    "\n",
    "\n",
    "#Formatting: Adjust the data to be more comprehensive for our purposes and fix any formatting errors within the data set. This involves exploring what forms of data visualization tools would best suit something that involves comparisons; such as Box/Column charts."
   ]
  }
 ],
 "metadata": {
  "kernelspec": {
   "display_name": "Python 3 (ipykernel)",
   "language": "python",
   "name": "python3"
  },
  "language_info": {
   "codemirror_mode": {
    "name": "ipython",
    "version": 3
   },
   "file_extension": ".py",
   "mimetype": "text/x-python",
   "name": "python",
   "nbconvert_exporter": "python",
   "pygments_lexer": "ipython3",
   "version": "3.10.8"
  }
 },
 "nbformat": 4,
 "nbformat_minor": 5
}
