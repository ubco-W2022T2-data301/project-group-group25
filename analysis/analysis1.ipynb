{
 "cells": [
  {
   "cell_type": "markdown",
   "metadata": {},
   "source": [
    "# Prabhtej Deol"
   ]
  },
  {
   "cell_type": "markdown",
   "metadata": {},
   "source": [
    "## Research question/interests\r\n",
    "\r\n",
    "Research question: How have changes in law, technology, and consumer preferences affected the pricing of insurance policies over the past decade?
  }
 ],
 "metadata": {},
 "nbformat": 4,
 "nbformat_minor": 2
}
