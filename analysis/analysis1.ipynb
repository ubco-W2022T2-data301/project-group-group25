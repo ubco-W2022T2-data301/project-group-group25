{
 "cells": [
  {
   "attachments": {},
   "cell_type": "markdown",
   "metadata": {},
   "source": [
    "# Prabhtej Deol\n",
    "## Research Question\n",
    "\n",
    "How have changes in law, technology, and consumer preferences affected the pricing of insurance policies over the past decade?\n",
    "### Context\n",
    "The insurance industry is a complex and constantly evolving industry, with many factors affecting the pricing of insurance policies. Some of the main factors include changes in law, advancements in technology, and changes in consumer preferences. To understand how these factors have affected insurance pricing, I plan to analyze a dataset that includes historical insurance pricing data for different types of insurance policies.\n",
    "### Rough Analysis Plan\n",
    "1. Data cleaning: I will begin by cleaning and preprocessing the data to remove any missing or inconsistent values, and to ensure that the data is in the appropriate format for analysis.\n",
    "2. Feature engineering: I will create new features that can potentially help in predicting insurance prices, such as time-related features (e.g. year, month, etc.), and features that reflect changes in law, technology, or consumer preferences (e.g. new regulations, advancements in technology, changes in customer demographics, etc.).\n",
    "3. Exploratory data analysis: I will perform a preliminary analysis of the data to gain insights into the distribution of insurance prices, identify any trends or patterns, and detect any outliers or anomalies.4. Exploring different plots to visualize my data and relationships\n",
    "4. Statistical modeling: I will use statistical models such as linear regression, decision trees, and random forests to build predictive models that can help me identify the factors that are most strongly associated with insurance pricing, and estimate the impact of these factors on insurance prices.\n",
    "5. Visualization: I will create visualizations such as scatter plots, bar charts, and line charts to help me visualize the relationships between different variables, and to communicate my findings to others."
   ]
  }
 ],
 "metadata": {
  "language_info": {
   "name": "plaintext"
  },
  "orig_nbformat": 4
 },
 "nbformat": 4,
 "nbformat_minor": 2
}
