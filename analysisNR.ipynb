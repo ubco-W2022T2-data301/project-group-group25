{
 "cells": [
  {
   "cell_type": "code",
   "execution_count": null,
   "id": "cb0c4534-b68c-4f61-8c44-f66b246062ce",
   "metadata": {},
   "outputs": [],
   "source": [
    "#My research question:\n",
    "\n",
    "#How does the number of children an individual has influence their insurance charges?\n",
    "\n",
    "\n",
    "\n",
    "#Context:\n",
    "\n",
    "#I plan to examine the relationship between number of children and insurance charges. I want to do this by analyzing this relationship in a general context, as well as combined with other variables such as age and gender. I am interested in whether insurance charges based on children are similar in men and women, or if there are identifiable differences. I am also curious about how insurance charges differ between age groups, based on number of children.\n",
    "\n",
    "\n",
    "\n",
    "#Rough analysis plan:\n",
    "\n",
    "#1. Identifying research question and key variables\n",
    "#Key variables will include number of children, age, gender, and insurance charges. Identifying these will allow me to clean the data effectively. \n",
    "\n",
    "#2. Data cleaning\n",
    "#Remove any NaN values from the dataset.\n",
    "#Remove any irrelevant data or outliers.\n",
    "#Drop columns that are irrelevant to my analysis.\n",
    "#Including BMI, smoker, and region \n",
    "\n",
    "#3. Shaping data by adding new columns, calculations, etc.\n",
    "#Calculations may include:\n",
    "#Percentage of male vs. female with 1 child, 2 children, 3 children, etc.\n",
    "#Percentage of 10 year-age increments with 1 child, 2 children, 3 children, etc.\n",
    "#New columns may include:\n",
    "#Number of children by gender\n",
    "#Number of children by age increments\n",
    "\n",
    "#4. Exploring different plots to visualize my data and relationships\n",
    "#I will use the Seaborn tutorial and experience from Lab 5 to start thinking about how I can effectively answer my research question through the use of plots."
   ]
  }
 ],
 "metadata": {
  "kernelspec": {
   "display_name": "Python 3 (ipykernel)",
   "language": "python",
   "name": "python3"
  },
  "language_info": {
   "codemirror_mode": {
    "name": "ipython",
    "version": 3
   },
   "file_extension": ".py",
   "mimetype": "text/x-python",
   "name": "python",
   "nbconvert_exporter": "python",
   "pygments_lexer": "ipython3",
   "version": "3.10.8"
  }
 },
 "nbformat": 4,
 "nbformat_minor": 5
}
